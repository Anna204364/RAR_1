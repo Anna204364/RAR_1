{
  "nbformat": 4,
  "nbformat_minor": 0,
  "metadata": {
    "colab": {
      "name": "Untitled11.ipynb",
      "provenance": []
    },
    "kernelspec": {
      "name": "python3",
      "display_name": "Python 3"
    },
    "language_info": {
      "name": "python"
    }
  },
  "cells": [
    {
      "cell_type": "code",
      "source": [
        "import numpy as np\n",
        "n = 4\n",
        "matrix =[list(map(float, input().split())) for row in range(n)]\n",
        "print(*matrix, sep='\\n')\n",
        "a=matrix\n",
        "#вычисления ожидаемых полезностей каждого из исходов\n",
        "d1=a[0][0]*a[3][0]+a[0][1]*a[3][1] \n",
        "d2=a[1][0]*a[3][0]+a[1][1]*a[3][1] \n",
        "d3=a[2][0]*a[3][0]+a[2][1]*a[3][1] \n",
        "b = [d1,d2,d3]\n",
        "print('используя критерий ожидаемой полезности, Винни-Пух должен принять решение № ', b.index(max(b))+1)\n",
        "print('используя критерий дисперсии полезности, Винни-Пух должен принять решение № ', b.index(min(b))+1)\n",
        "print(\"Ответ:\", b.index(max(b))+1)\n",
        "\n",
        "\n",
        "\n"
      ],
      "metadata": {
        "colab": {
          "base_uri": "https://localhost:8080/"
        },
        "id": "kruWP-qayI1v",
        "outputId": "b6524e76-5e70-412c-eaa0-e101a952b6b5"
      },
      "execution_count": 101,
      "outputs": [
        {
          "output_type": "stream",
          "name": "stdout",
          "text": [
            "500.0 -200.0\n",
            "-150.0 1000.0\n",
            "0 0\n",
            "0.7 0.3\n",
            "[500.0, -200.0]\n",
            "[-150.0, 1000.0]\n",
            "[0.0, 0.0]\n",
            "[0.7, 0.3]\n",
            "используя критерий ожидаемой полезности, Винни-Пух должен принять решение №  1\n",
            "используя критерий дисперсии полезности, Винни-Пух должен принять решение №  3\n",
            "Ответ: 1\n"
          ]
        }
      ]
    }
  ]
}